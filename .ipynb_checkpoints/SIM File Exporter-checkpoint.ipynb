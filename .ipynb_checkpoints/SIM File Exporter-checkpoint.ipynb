{
 "cells": [
  {
   "cell_type": "code",
   "execution_count": 17,
   "metadata": {},
   "outputs": [],
   "source": [
    "from fpdf import FPDF\n",
    "from PyPDF2 import PdfMerger\n",
    "\n",
    "import os\n",
    "\n",
    "projectName = '2517 Eastlake' #name of the project\n",
    "\n",
    "#list each sim file you want to print:\n",
    "files = ['2517 Eastlake_LEED Baseline 20230113 - Baseline Design.SIM',\n",
    "         '2517 Eastlake_LEED Baseline 20230113 - 22.SIM',\n",
    "         '2517 Eastlake_LEED Baseline 20230113 - 23.SIM',\n",
    "         '2517 Eastlake_LEED Baseline 20230113 - 24.SIM',\n",
    "         '2517 Eastlake_LEED Prop 20230117 - 22.SIM']\n",
    "\n",
    "#give each one a unique identifier (in the same order as the list above)\n",
    "prefixes = ['SRD',\n",
    "            'SRD90',\n",
    "            'SRD180',\n",
    "            'SRD270',\n",
    "            'PROP']\n",
    "\n",
    "#list the names of the specific equest reports you want to include in the printout:\n",
    "reports = ['BEPS',\n",
    "            'BEPU',\n",
    "            'ERV',\n",
    "            'LS-C',\n",
    "            'LV-B',\n",
    "            'LV-D',\n",
    "            'LV-E',\n",
    "            'LV-G',\n",
    "            'LV-H',\n",
    "            'LV-I',\n",
    "            'PS-E',\n",
    "            'PS-F',\n",
    "            'PV-A',\n",
    "            'SV-A']\n",
    "\n",
    "#FUTURE DEVELOPMENT:  add footers and page numbers to reports for inclusion in C407 studies"
   ]
  },
  {
   "cell_type": "code",
   "execution_count": 18,
   "metadata": {},
   "outputs": [],
   "source": [
    "#Define function to print reports:\n",
    "def printreports(filename,reports,prefix):\n",
    "    sim = open(filename)\n",
    "    simtext = sim.read()\n",
    "    reportsplit = simtext.split('\\x0c')\n",
    "    sim.close\n",
    "    filestomerge = []\n",
    "    for report in reports:\n",
    "        pdf = FPDF(format='Letter')  \n",
    "\n",
    "        # set style and size of font  \n",
    "        # that you want in the pdf \n",
    "        pdf.set_font(\"Courier\", size = 6.5) \n",
    "\n",
    "        for l in reportsplit:\n",
    "            lines=l.splitlines()\n",
    "            if len(lines)>3 and report in lines[2][:15]:\n",
    "                # Add a page \n",
    "                pdf.add_page()\n",
    "                pdf.multi_cell(0,3,txt=l,align='L')\n",
    "        \n",
    "        if not os.path.exists(os.getcwd()+'\\\\Output'):\n",
    "            os.mkdir(os.getcwd()+'\\\\Output')\n",
    "        filename = os.getcwd()+'\\\\output\\\\'+prefix + report +\".pdf\"\n",
    "        pdf.output(filename)  \n",
    "        filestomerge.append(filename)\n",
    "    \n",
    "    #combine individual reports into one     \n",
    "    \n",
    "    merger = PdfMerger()\n",
    "\n",
    "    for f in filestomerge:\n",
    "        merger.append(f)\n",
    "\n",
    "    merger.write('.\\\\output\\\\' + projectName + ' - ' + prefix[:-1] +\" - Combined Model Outputs.pdf\")\n",
    "    merger.close()"
   ]
  },
  {
   "cell_type": "code",
   "execution_count": 19,
   "metadata": {},
   "outputs": [],
   "source": [
    "for file in files:\n",
    "    printreports(file,reports,prefixes[files.index(file)]+'_')\n"
   ]
  },
  {
   "cell_type": "code",
   "execution_count": null,
   "metadata": {},
   "outputs": [],
   "source": []
  }
 ],
 "metadata": {
  "kernelspec": {
   "display_name": "Python 3 (ipykernel)",
   "language": "python",
   "name": "python3"
  },
  "language_info": {
   "codemirror_mode": {
    "name": "ipython",
    "version": 3
   },
   "file_extension": ".py",
   "mimetype": "text/x-python",
   "name": "python",
   "nbconvert_exporter": "python",
   "pygments_lexer": "ipython3",
   "version": "3.9.18"
  }
 },
 "nbformat": 4,
 "nbformat_minor": 4
}
