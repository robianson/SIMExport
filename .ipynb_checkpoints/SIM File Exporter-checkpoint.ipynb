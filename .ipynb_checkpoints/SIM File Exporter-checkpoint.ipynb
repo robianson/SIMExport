{
 "cells": [
  {
   "cell_type": "code",
   "execution_count": 22,
   "metadata": {},
   "outputs": [],
   "source": [
    "from fpdf import FPDF\n",
    "import os\n",
    "\n",
    "prop = '2517 Eastlake - Baseline Design.SIM'\n",
    "#srd = 'B36 Tower-SRD - Baseline Design.SIM'\n",
    "\n",
    "reports = ['BEPS',\n",
    "            'BEPU',\n",
    "            'ERV',\n",
    "            'LS-C',\n",
    "            'LV-B',\n",
    "            'LV-D',\n",
    "            'LV-E',\n",
    "            'LV-G',\n",
    "            'LV-H',\n",
    "            'LV-I',\n",
    "            'PS-E',\n",
    "            'PS-F',\n",
    "            'PV-A',\n",
    "            'SV-A']"
   ]
  },
  {
   "cell_type": "code",
   "execution_count": 23,
   "metadata": {},
   "outputs": [],
   "source": [
    "def printreports(filename,reports,prefix):\n",
    "    sim = open(filename)\n",
    "    simtext = sim.read()\n",
    "    reportsplit = simtext.split('\\x0c')\n",
    "    sim.close\n",
    "    for report in reports:\n",
    "        pdf = FPDF()  \n",
    "\n",
    "        # set style and size of font  \n",
    "        # that you want in the pdf \n",
    "        pdf.set_font(\"Courier\", size = 6.5) \n",
    "\n",
    "        for l in reportsplit:\n",
    "            lines=l.splitlines()\n",
    "            if len(lines)>3 and report in lines[2][:15]:\n",
    "                # Add a page \n",
    "                pdf.add_page()\n",
    "                pdf.multi_cell(0,3,txt=l,align='L')\n",
    "        \n",
    "        if not os.path.exists(os.getcwd()+'\\\\Output'):\n",
    "            os.mkdir(os.getcwd()+'\\\\Output')\n",
    "        pdf.output(os.getcwd()+'\\\\output\\\\'+prefix + report +\".pdf\")  "
   ]
  },
  {
   "cell_type": "code",
   "execution_count": 24,
   "metadata": {},
   "outputs": [],
   "source": [
    "#printreports(srd,reports,'SRD_')\n",
    "printreports(prop,reports,'PROP_')"
   ]
  }
 ],
 "metadata": {
  "kernelspec": {
   "display_name": "Python 3",
   "language": "python",
   "name": "python3"
  },
  "language_info": {
   "codemirror_mode": {
    "name": "ipython",
    "version": 3
   },
   "file_extension": ".py",
   "mimetype": "text/x-python",
   "name": "python",
   "nbconvert_exporter": "python",
   "pygments_lexer": "ipython3",
   "version": "3.8.3"
  }
 },
 "nbformat": 4,
 "nbformat_minor": 4
}
